 [\"B\", \"C\", \"C\"]\n",
    "\".\".join( initials )"
   ]
  },
  {
   "cell_type": "markdown",
   "metadata": {},
   "source": [
    "***\n",
    "### 3. Converting Between Types"
   ]
  },
  {
   "cell_type": "markdown",
   "metadata": {},
   "source": [
    "Recall mixing incompatible types is **not** permitted in Python, so trying to concatenate a string and a number will give an error message."
   ]
  },
  {
   "cell_type": "code",
   "execution_count": null,
   "metadata": {},
   "outputs": [],
   "source": [
    "\"my age is \" + 37"
   ]
  },
  {
   "cell_type": "markdown",
   "metadata": {},
   "source": [
    "Instead, we use *conversion functions* to change a value between basic types in Python. Use the built-in *str()* function to convert any variable to a string:"
   ]
  },
  {
   "cell_type": "code",
   "execution_count": null,
   "metadata": {},
   "outputs": [],
   "source": [
    "str(30)  # change an integer to a string"
   ]
  },
  {
   "cell_type": "markdown",
   "metadata": {},
   "source": [
    "We can convert string values to other types using various built-in functions - most commonly *int()* to convert to an integer and *float()* to convert to a floating point (real) value:"
   ]
  },
  {
   "cell_type": "code",
   "execution_count": null,
   "metadata": {},
   "outputs": [],
   "source": [
    "int(\"3500\")"
   ]
  },
  {
   "cell_type": "code",
   "execution_count": null,
   "metadata": {},
   "outputs": [],
   "source": [
    "float(\"5.04\")"
   ]
  },
  {
   "cell_type": "markdown",
   "metadata": {},
   "source": [
    "Obviously not all strings will be suitable for conversion to a number, and will result in an error message:"
   ]
  },
  {
   "cell_type": "code",
   "execution_count": null,
   "metadata": {},
   "outputs": [],
   "source": [
    "int(\"KMITL\")"
   ]
  },
  {
   "cell_type": "markdown",
   "metadata": {},
   "source": [
    "***\n",
    "### 4. Formatting Strings"
   ]
  },
  {
   "cell_type": "markdown",
   "metadata": {},
   "source": [
    "There are many different ways of nicely formatting output in Python. The simplest way is to use the *print()* function with a comma separated list of values to print out:"
   ]
  },
  {
   "cell_type": "code",
   "execution_count": null,
   "metadata": {},
   "outputs": [],
   "source": [
    "teamx = 3\n",
    "teamy = 2\n",
    "mins = 35\n",
    "print( \"The score was\", teamx, \"-\", teamy, \"after\", mins, \"minutes\" )"
   ]
  },
  {
   "cell_type": "markdown",
   "metadata": {},
   "source": [
    "A more flexible way is to concatenate multiple variables of different types into a single string, using the *%* operator. The *format string* provides the recipe to build the string, containing zero or more *placeholders*. The placeholders get substituted for the list of values that you provide after the % symbol."
   ]
  },
  {
   "cell_type": "markdown",
   "metadata": {},
   "source": [
    "Basic usage is: a format string, followed by '%' character, then one or more values in parenthesis. The number of placeholders in the format string must equal the number of values!"
   ]
  },
  {
   "cell_type": "code",
   "execution_count": null,
   "metadata": {},
   "outputs": [],
   "source": [
    "\"%s and %s\" % ( \"Alex\", \"Alice\" )   # 2 placeholders, 2 values"
   ]
  },
  {
   "cell_type": "markdown",
   "metadata": {},
   "source": [
    "***\n",
    "\n",
    "### 5. Special placeholder codes are used when building a format string. Each placeholder should correspond to the type of the value that will replace it.\n",
    "- %d: integer\n",
    "- %+010d: integer, with a sign character (\"+\" or \"-\") that will precede the conversion zero-padded til the width of 10  \n",
    "- %f: floating point, with default precision\n",
    "- %.Nf: floating point to *N* decimal places)\n",
    "- %s: a string (or any value)"
   ]
  },
  {
   "cell_type": "code",
   "execution_count": null,
   "metadata": {},
   "outputs": [],
   "source": [
    "director_name = \" Anthony and Joe Russo\"\n",
    "movie_name = \"Avenger: Endgame\"\n",
    "year = 2019\n",
    "rating = 8.7\n",
    "vote = 477651"
   ]
  },
  {
   "cell_type": "code",
   "execution_count": null,
   "metadata": {},
   "outputs": [],
   "source": [
    "s = \"%s directed %s in %d, which has IMDB rating %f with %+010d\" % ( director_name, movie_name, year, rating, vote )"
   ]
  },
  {
   "cell_type": "code",
   "execution_count": null,
   "metadata": {},
   "outputs": [],
   "source": [
    "print(s)"
   ]
  },
  {
   "cell_type": "markdown",
   "metadata": {},
   "source": [
    "Often string formatting can be used to round or \"tidy\" floating point values:"
   ]
  },
  {
   "cell_type": "code",
   "execution_count": null,
   "metadata": {},
   "outputs": [],
   "source": [
    "x = 1.28353"
   ]
  },
  {
   "cell_type": "code",
   "execution_count": null,
   "metadata": {},
   "outputs": [],
   "source": [
    "\"%f => %0.f or %.1f or %.2f or %.3f\" % ( x, x, x, x, x )"
   ]
  },
  {
   "cell_type": "code",
   "execution_count": null,
   "metadata": {},
   "outputs": [],
   "source": []
  }
 ],
 "metadata": {
  "anaconda-cloud": {},
  "kernelspec": {
   "display_name": "Python 3",
   "language": "python",
   "name": "python3"
  },
  "language_info": {
   "codemirror_mode": {
    "name": "ipython",
    "version": 3
   },
   "file_extension": ".py",
   "mimetype": "text/x-python",
   "name": "python",
   "nbconvert_exporter": "python",
   "pygments_lexer": "ipython3",
   "version": "3.7.1"
  }
 },
 "nbformat": 4,
 "nbformat_minor": 1
}

------WebKitFormBoundaryN8vyOVD2sU0O1n5V--
