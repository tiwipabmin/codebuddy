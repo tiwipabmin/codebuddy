"file"; filename="09_Exception Handling.ipynb"
Content-Type: application/octet-stream

{
 "cells": [
  {
   "cell_type": "markdown",
   "metadata": {},
   "source": [
    "# Exception Handling\n",
    "Term 1 2019 - Instructor: Teerapong Leelanupab\n",
    "\n",
    "Teaching Assistant: Suttida Satjasunsern\n",
    "\n",
    "***"
   ]
  },
  {
   "cell_type": "markdown",
   "metadata": {},
   "source": [
    "If Python finds an error in your code, it raises an exception. By default, an exception will terminate a script or notebook. \n",
    "We can handle errors in a structured way by \"catching\" exceptions. In other words, we can plan in advance for errors that might occur in our code."
   ]
  },
  {
   "cell_type": "markdown",
   "metadata": {},
   "source": [
    "Here is an example where we try to open a file that may not exist, without dealing with that case. If the file does not exist, we will get an exception of type *FileNotFoundError* when we call the function *open()*. As a result, the subsequent lines of code will never get executed."
   ]
  },
  {
   "cell_type": "code",
   "execution_count": null,
   "metadata": {},
   "outputs": [],
   "source": [
    "f = open(\"missing.txt\",\"r\")\n",
    "content = f.read()\n",
    "f.close()\n",
    "print(\"Finished\")"
   ]
  },
  {
   "cell_type": "markdown",
   "metadata": {},
   "source": [
    "To deal with this case, we wrap the same code in a block surrounded by *try...except** statements. In this case, if an error occurs, we print a warning message and continue on with the rest of the program."
   ]
  },
  {
   "cell_type": "code",
   "execution_count": null,
   "metadata": {},
   "outputs": [],
   "source": [
    "try:\n",
    "    f = open(\"missing.txt\",\"r\")\n",
    "    content = f.read()\n",
    "    f.close()\n",
    "except FileNotFoundError:\n",
    "    print(\"Warning: File not found\")\n",
    "print(\"Finished\")"
   ]
  },
  {
   "cell_type": "markdown",
   "metadata": {},
   "source": [
    "Python contains many different types of built-in exception types. For instance, if we try to divide a number by zero, we get a *ZeroDivisionError*."
   ]
  },
  {
   "cell_type": "code",
   "execution_count": null,
   "metadata": {},
   "outputs": [],
   "source": [
    "x = 3\n",
    "x / 0"
   ]
  },
  {
   "cell_type": "markdown",
   "metadata": {},
   "source": [
    "In the code below, we write a function that calculate the value of an equation, which handles the case of zero division."
   ]
  },
  {
   "cell_type": "code",
   "execution_count": null,
   "metadata": {},
   "outputs": [],
   "source": [
    "def calc_score( x, y ):\n",
    "    try:\n",
    "        return (x*x)/(y*y)\n",
    "    except ZeroDivisionError:\n",
    "        print(\"You must have specified 0 for the value of y\")\n",
    "        return 0"
   ]
  },
  {
   "cell_type": "code",
   "execution_count": null,
   "metadata": {},
   "outputs": [],
   "source": [
    "# Here is a case which does not raise an exception\n",
    "calc_score( 3, 2 )"
   ]
  },
  {
   "cell_type": "code",
   "execution_count": null,
   "metadata": {},
   "outputs": [],
   "source": [
    "# Here is a case which does raise an exception\n",
    "calc_score( 3, 0 )"
   ]
  },
  {
   "cell_type": "markdown",
   "metadata": {},
   "source": [
    "Python can provide us with details about the specific cause of the exception - i.e. the error message. So we can rewrite the function above."
   ]
  },
  {
   "cell_type": "code",
   "execution_count": null,
   "metadata": {},
   "outputs": [],
   "source": [
    "def calc_score( x, y ):\n",
    "    try:\n",
    "        return (x*x)/(y*y)\n",
    "    except ZeroDivisionError as e:\n",
    "        print(\"Error message is: \", e)\n",
    "        return 0"
   ]
  },
  {
   "cell_type": "code",
   "execution_count": null,
   "metadata": {},
   "outputs": [],
   "source": [
    "calc_score( 3, 0 )"
   ]
  },
  {
   "cell_type": "markdown",
   "metadata": {},
   "source": [
    "Exception handling can involve multiple *except* clauses, so A *try* statement can check for several different exception types in sequence. In the example below, we check for two exception types: a *ZeroDivisionError* and a *ValueError*."
   ]
  },
  {
   "cell_type": "code",
   "execution_count": null,
   "metadata": {},
   "outputs": [],
   "source": [
    "def calc_score( x, y ):\n",
    "    try:\n",
    "        return (x*x)/(y*y)\n",
    "    except ZeroDivisionError as e:\n",
    "        print(\"You must have specified 0 for the value of y:\", e)\n",
    "        return 0\n",
    "    except TypeError as e:\n",
    "        print(\"Bad parameter value:\", e)\n",
    "        return 0        "
   ]
  },
  {
   "cell_type": "code",
   "execution_count": null,
   "metadata": {},
   "outputs": [],
   "source": [
    "# Here is a case which does not raise an exception\n",
    "calc_score( 5, 2 )"
   ]
  },
  {
   "cell_type": "code",
   "execution_count": null,
   "metadata": {},
   "outputs": [],
   "source": [
    "# This should cause a divide by zero to be attempted\n",
    "calc_score( 5, 0 )"
   ]
  },
  {
   "cell_type": "code",
   "execution_count": null,
   "metadata": {},
   "outputs": [],
   "source": [
    "# Here we are passing in a value of the wrong type\n",
    "calc_score( \"Teerapong\", 4 )"
   ]
  },
  {
   "cell_type": "markdown",
   "metadata": {},
   "source": [
    "## \\*\\*\\* Lab Practice 3 \\*\\*\\*"
   ]
  },
  {
   "cell_type": "markdown",
   "metadata": {},
   "source": [
    "Write code in the cell below which will read floating point values from each line in the file, and compute the total for the values on each line. Print each total to 2 decimal places. Use exception handling to deal with the potential case where the input file does not exist.\n",
    "<br><br><font color='green'>Sample output:</font>\n",
    "2.84\n",
    "3.57\n",
    "1.57\n",
    "2.41\n",
    "2.47\n",
    "3.02"
   ]
  },
  {
   "cell_type": "code",
   "execution_count": 25,
   "metadata": {},
   "outputs": [
    {
     "name": "stdout",
     "output_type": "stream",
     "text": [
      "2.84 3.57 1.57 2.41 2.47 3.02 "
     ]
    }
   ],
   "source": [
    "ans = [];\n",
    "f = open(\"data\\scores.csv\", \"r\");\n",
    "lines = f.readlines();\n",
    "f.close();\n",
    "for line in lines:\n",
    "    line = line.strip();\n",
    "#     print(line);\n",
    "    sum = 0;\n",
    "    for x in line.split(\",\"):\n",
    "        sum += float(x);\n",
    "    ans.append(sum);\n",
    "\n",
    "for i in range(len(ans)):\n",
    "    print(\"%0.2f\" %ans[i], end=\" \");"
   ]
  },
  {
   "cell_type": "code",
   "execution_count": null,
   "metadata": {},
   "outputs": [],
   "source": []
  }
 ],
 "metadata": {
  "kernelspec": {
   "display_name": "Python 3",
   "language": "python",
   "name": "python3"
  },
  "language_info": {
   "codemirror_mode": {
    "name": "ipython",
    "version": 3
   },
   "file_extension": ".py",
   "mimetype": "text/x-python",
   "name": "python",
   "nbconvert_exporter": "python",
   "pygments_lexer": "ipython3",
   "version": "3.7.1"
  }
 },
 "nbformat": 4,
 "nbformat_minor": 1
}

------WebKitFormBoundarysNkX2QxsHV5EmENL--
